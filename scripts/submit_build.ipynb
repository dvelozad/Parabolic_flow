{
 "cells": [
  {
   "cell_type": "code",
   "execution_count": 3,
   "metadata": {},
   "outputs": [],
   "source": [
    "import sys\n",
    "import os"
   ]
  },
  {
   "cell_type": "code",
   "execution_count": 4,
   "metadata": {},
   "outputs": [],
   "source": [
    "wd = os.getcwd()\n",
    "sys.path.append(f'{wd}/../modules')"
   ]
  },
  {
   "cell_type": "code",
   "execution_count": 5,
   "metadata": {},
   "outputs": [],
   "source": [
    "root_input_folder    = f'{wd}/../input_files'\n",
    "root_output_folder   = f'{wd}/../output_files'"
   ]
  },
  {
   "cell_type": "markdown",
   "metadata": {},
   "source": [
    "# Functions"
   ]
  },
  {
   "cell_type": "code",
   "execution_count": 39,
   "metadata": {},
   "outputs": [],
   "source": [
    "def write_lj_fluid_sw_interaction_file(args, input_folder, output_folder, label):\n",
    "    # Unpack arguments\n",
    "    Ns, Nw, Lx, Ly, Lz, epsilon, sigma, eta, system_temp, pressure, time_step, n_step_to_run, m_frame_dump, m_frame_restart = args\n",
    "\n",
    "    # System-specific constants\n",
    "    kappa = 1000  # Spring constant for wall-wall interactions, in epsilon*sigma^-2\n",
    "    r0 = 1.1626  # Equilibrium distance for wall-wall interactions, in sigma\n",
    "\n",
    "    script = f\"\"\"# LJ Fluid with Walls and Harmonic Wall Interactions\n",
    "units        lj\n",
    "atom_style   full\n",
    "dimension    3\n",
    "boundary     p p p\n",
    "\n",
    "# System variables\n",
    "variable     label      equal   {label}\n",
    "variable     Ns         equal   {Ns}              # Number of solvent particles\n",
    "variable     Nw         equal   {Nw}              # Number of wall particles\n",
    "variable     Lx         equal   {Lx}              # Box x length\n",
    "variable     Ly         equal   {Ly}              # Box y length\n",
    "variable     Lz         equal   {Lz}              # Box z length, adjustable based on pressure\n",
    "variable     epsilon    equal   {epsilon}         # Interaction energy scale\n",
    "variable     sigma      equal   {sigma}           # Particle size\n",
    "variable     eta        equal   {eta}             # Interaction strength parameter\n",
    "variable     system_temp equal  {system_temp}     # System temperature\n",
    "variable     pressure   equal   {pressure}        # System pressure\n",
    "variable     dt         equal   {time_step}       # Time step\n",
    "variable     kappa      equal   {kappa}           # Spring constant for wall-wall harmonic interactions\n",
    "variable     r0         equal   {r0}              # Equilibrium distance for wall-wall interactions\n",
    "\n",
    "# Create simulation box\n",
    "region       box block 0 {Lx} 0 {Ly} 0 {Lz}\n",
    "create_box   2 box\n",
    "\n",
    "# Pair styles for non-bonded interactions\n",
    "pair_style   hybrid/overlay lj/cut {2.5*sigma}\n",
    "pair_coeff   1 1 lj/cut {epsilon} {sigma} {2.5*sigma}  # s-s interactions\n",
    "pair_coeff   1 2 lj/cut {epsilon} {sigma} {pow(2, 1/6)*sigma}  # s-w interactions using WCA potential\n",
    "\n",
    "# Create particles\n",
    "create_atoms 1 random {Ns} 12345 box\n",
    "create_atoms 2 random {Nw} 67890 box\n",
    "\n",
    "# Set masses\n",
    "mass 1 1.0\n",
    "mass 2 1.0\n",
    "\n",
    "print \"Particles created\"\n",
    "\n",
    "# Initial equilibration with harmonic interactions among wall particles\n",
    "bond_style   harmonic\n",
    "bond_coeff   2 {kappa} {r0}\n",
    "\n",
    "print \"Bound spring created\"\n",
    "\n",
    "# NOTE: Define bonds between wall particles here, assuming a pre-defined list or using a script to generate\n",
    "\n",
    "timesetp {time_step}\n",
    "\n",
    "# Initial equilibration in NPT ensemble\n",
    "fix          1 all npt temp {system_temp} {system_temp} (10*${{dt}}) aniso {pressure} {pressure} (100*${{dt}})\n",
    "thermo       100\n",
    "run          5000  # Duration for initial equilibration\n",
    "\n",
    "# For production runs, freeze wall particles in their final equilibrium positions\n",
    "unfix        1  # Remove NPT ensemble fix\n",
    "fix          2 wall setforce 0.0 0.0 0.0  # Freeze wall particles\n",
    "\n",
    "# Continue with production run\n",
    "run          {n_step_to_run}\n",
    "\n",
    "write_restart {output_folder}/${{label}}.restart\n",
    "\"\"\"\n",
    "\n",
    "    # Write to file\n",
    "    with open(f'{output_folder}/{label}.in', 'w') as file:\n",
    "        file.write(script)\n"
   ]
  },
  {
   "cell_type": "markdown",
   "metadata": {},
   "source": [
    "# Define experiment"
   ]
  },
  {
   "cell_type": "code",
   "execution_count": 40,
   "metadata": {},
   "outputs": [],
   "source": [
    "import numpy as np\n",
    "import pandas as pd\n",
    "from spartian_tools import *"
   ]
  },
  {
   "cell_type": "code",
   "execution_count": 41,
   "metadata": {},
   "outputs": [],
   "source": [
    "stage   = 'BUILD'\n",
    "label   = 'build_lj'\n",
    "\n",
    "length_x = 10.0\n",
    "length_y = 10.0\n",
    "length_z = 10.0\n",
    "\n",
    "time_step   = 0.001\n",
    "system_temp = 2.0\n",
    "\n",
    "n_step_to_run   = 2000000\n",
    "m_frame_dump    = 300\n",
    "m_frame_restart = 20000\n",
    "\n",
    "pressure = 2.65\n",
    "epsilon = 1\n",
    "sigma = 1\n",
    "eta = 1\n",
    "\n",
    "Ns = 1000\n",
    "Nw = 2000"
   ]
  },
  {
   "cell_type": "code",
   "execution_count": 42,
   "metadata": {},
   "outputs": [],
   "source": [
    "experiment_label    = f'{stage}_TEST'\n",
    "output_folder       = f'{root_output_folder}/{stage}/{experiment_label}'\n",
    "\n",
    "create_experiment_folder(output_folder)\n",
    "\n",
    "args = tuple([Ns, Nw, length_x, length_y, length_z, epsilon, sigma, eta, system_temp, pressure, time_step, n_step_to_run, m_frame_dump, m_frame_restart ])\n",
    "write_lj_fluid_sw_interaction_file(args, root_input_folder, output_folder, label)\n",
    "\n",
    "submit_file = f'{output_folder}/{label}.submit'\n",
    "write_submit_jobs_SLURM(label, submit_file)\n",
    "#submit_jobs_SLURM(output_folder, submit_file)"
   ]
  },
  {
   "cell_type": "code",
   "execution_count": null,
   "metadata": {},
   "outputs": [],
   "source": []
  }
 ],
 "metadata": {
  "kernelspec": {
   "display_name": "base",
   "language": "python",
   "name": "python3"
  },
  "language_info": {
   "codemirror_mode": {
    "name": "ipython",
    "version": 3
   },
   "file_extension": ".py",
   "mimetype": "text/x-python",
   "name": "python",
   "nbconvert_exporter": "python",
   "pygments_lexer": "ipython3",
   "version": "3.10.13"
  }
 },
 "nbformat": 4,
 "nbformat_minor": 2
}
