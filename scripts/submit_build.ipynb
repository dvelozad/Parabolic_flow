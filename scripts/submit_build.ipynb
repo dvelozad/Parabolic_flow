{
 "cells": [
  {
   "cell_type": "code",
   "execution_count": 29,
   "metadata": {},
   "outputs": [],
   "source": [
    "import sys\n",
    "import os"
   ]
  },
  {
   "cell_type": "code",
   "execution_count": 30,
   "metadata": {},
   "outputs": [],
   "source": [
    "wd = os.getcwd()\n",
    "sys.path.append(f'{wd}/../modules')"
   ]
  },
  {
   "cell_type": "code",
   "execution_count": 31,
   "metadata": {},
   "outputs": [],
   "source": [
    "root_input_folder    = f'{wd}/../input_files'\n",
    "root_output_folder   = f'{wd}/../output_files'"
   ]
  },
  {
   "cell_type": "markdown",
   "metadata": {},
   "source": [
    "# Functions"
   ]
  },
  {
   "cell_type": "code",
   "execution_count": 32,
   "metadata": {},
   "outputs": [],
   "source": [
    "def write_lj_fluid_hybrid_interaction_file(args, input_folder, output_folder, label):\n",
    "    # Unpack arguments\n",
    "    BOXZ, Lx, Ly, Lz, Lx_h, Ly_h, Lz_h, Lx_f, Ly_f, Lz_f, xlo_reflect, xhi_reflect, epsilon, sigma, eta, system_temp, pressure, time_step, n_step_to_run, m_frame_dump, m_frame_restart = args\n",
    "\n",
    "    # System-specific constants\n",
    "    kappa = 1000  # Spring constant for wall-wall interactions, in epsilon*sigma^-2\n",
    "    r0 = 1.1626   # Equilibrium distance for wall-wall interactions, in sigma\n",
    "\n",
    "\n",
    "    script = f\"\"\"# LJ Fluid with Hollow Flow Region\n",
    "units           lj\n",
    "dimension       3\n",
    "#boundary        f p p\n",
    "boundary        p p p\n",
    "atom_style      full/gc/HAdResS\n",
    "\n",
    "# Variables\n",
    "variable     label          index   {label}\n",
    "variable     BOXZ           equal   {BOXZ}            # Box Z length\n",
    "variable     Lx             equal   {Lx}              # Box x length\n",
    "variable     Ly             equal   {Ly}              # Box y length\n",
    "variable     Lz             equal   {Lz}              # Box z length\n",
    "variable     half_Lx        equal   ${{Lx}}/2.0\n",
    "variable     half_Ly        equal   ${{Ly}}/2.0\n",
    "variable     half_Lz        equal   ${{Lz}}/2.0\n",
    "variable     Lx_h           equal   {Lx_h}            # Hollow region x length\n",
    "variable     Ly_h           equal   {Ly_h}            # Hollow region y length\n",
    "variable     Lz_h           equal   {Lz_h}            # Hollow region z length\n",
    "variable     half_Lx_h      equal   ${{Lx_h}}/2.0\n",
    "variable     half_Ly_h      equal   ${{Ly_h}}/2.0\n",
    "variable     half_Lz_h      equal   ${{Lz_h}}/2.0\n",
    "variable     Lx_f           equal   {Lx_f}            # Flow region x length\n",
    "variable     Ly_f           equal   {Ly_f}            # Flow region y length\n",
    "variable     Lz_f           equal   {Lz_f}            # Flow region z length\n",
    "variable     half_Lx_f      equal   ${{Lx_f}}/2.0\n",
    "variable     half_Ly_f      equal   ${{Ly_f}}/2.0\n",
    "variable     half_Lz_f      equal   ${{Lz_f}}/2.0\n",
    "variable     epsilon        equal   {epsilon}         # Interaction energy scale\n",
    "variable     sigma          equal   {sigma}           # Particle size\n",
    "variable     eta            equal   {eta}             # Interaction strength parameter\n",
    "variable     system_temp    equal   {system_temp}     # System temperature\n",
    "variable     pressure       equal   {pressure}        # System pressure\n",
    "variable     dt             equal   {time_step}       # Time step\n",
    "variable     kappa          equal   {kappa}           # Spring constant for wall-wall harmonic interactions\n",
    "variable     r0             equal   {r0}              # Equilibrium distance for wall-wall interactions\n",
    "\n",
    "molecule     mol1 {input_folder}/atom_details/LJ_A.dat\n",
    "\n",
    "neighbor 0.5 bin\n",
    "neigh_modify every 1 delay 0 check yes\n",
    "\n",
    "lattice         fcc 0.9\n",
    "region          box block -${{half_Lx}} ${{half_Lx}} -${{half_Ly}} ${{half_Ly}} -${{BOXZ}} ${{BOXZ}} units lattice\n",
    "create_box      2 box\n",
    "\n",
    "# Regions for boundary and flow\n",
    "region          boundary_reg block  -${{half_Lx}} ${{half_Lx}}      -${{half_Ly}} ${{half_Ly}}      -${{half_Lz}} ${{half_Lz}}      units lattice\n",
    "region          hollow block        -${{half_Lx_h}} ${{half_Lx_h}}  -${{half_Ly_h}} ${{half_Ly_h}}  -${{half_Lz_h}} ${{half_Lz_h}}  units lattice\n",
    "region          flow_reg block      -${{half_Lx_f}} ${{half_Lx_f}}  -${{half_Ly_f}} ${{half_Ly_f}}  -${{half_Lz_f}} ${{half_Lz_f}}  units lattice\n",
    "\n",
    "# Creating boundary atoms\n",
    "create_atoms    2 region boundary_reg\n",
    "group           boundary region boundary_reg \n",
    "\n",
    "# Creating hollow space in the boundary\n",
    "delete_atoms    region hollow\n",
    "\n",
    "# Creating flow atoms using molecule mol1\n",
    "create_atoms    0 region flow_reg mol mol1 2851\n",
    "group           flow region flow_reg\n",
    "\n",
    "mass            1 1.0\n",
    "mass            2 1.0\n",
    "\n",
    "# Pair styles for non-bonded interactions\n",
    "\n",
    "# Pair styles for non-bonded interactions\n",
    "pair_style      hybrid/overlay lj/cut {2.5*sigma}\n",
    "pair_modify     shift yes tail no mix geometric\n",
    "\n",
    "pair_coeff   1 1 lj/cut {epsilon} {sigma} {2.5*sigma}          # s-s interactions\n",
    "pair_coeff   1 2 lj/cut {epsilon} {sigma} {pow(2, 1/6)*sigma}  # s-w interactions using WCA potential\n",
    "pair_coeff   2 2 lj/cut 0 0 {pow(2, 1/6)*sigma}                # w-w interactions\n",
    "#pair_coeff  2 2 harmonic/cut {kappa} {r0} {2.5*sigma}         # w-w \n",
    "\n",
    "# Initialize velocities\n",
    "reset_atom_ids\n",
    "velocity      flow create {2*system_temp} 12345 dist uniform\n",
    "\n",
    "#fix        1 flow nvt temp 2.0 2.0 10\n",
    "fix         1 all npt temp {system_temp} {system_temp} 10 aniso {pressure} {pressure} 100\n",
    "\n",
    "# Output settings\n",
    "dump            trj all custom {m_frame_dump} ${{label}}.lammpstrj id type element x y z\n",
    "thermo          20\n",
    "\n",
    "compute myTemp flow temp\n",
    "compute myPress all pressure myTemp\n",
    "thermo_style    custom step temp etotal c_myTemp c_myPress\n",
    "\n",
    "timestep        {time_step}\n",
    "\n",
    "# Freeze wall particles\n",
    "fix freezeWall boundary setforce 0.0 0.0 0.0 \n",
    "#fix         wallBottom  all wall/reflect xlo {xlo_reflect}#-15\n",
    "#fix         wallTop     all wall/reflect xhi {xhi_reflect}#14.6\n",
    "\n",
    "# Continue with production run\n",
    "run          {n_step_to_run}\n",
    "\n",
    "write_restart {output_folder}/${{label}}.restart\n",
    "\"\"\"\n",
    "\n",
    "    # Write to file\n",
    "    with open(f'{output_folder}/{label}.in', 'w') as file:\n",
    "        file.write(script)"
   ]
  },
  {
   "cell_type": "markdown",
   "metadata": {},
   "source": [
    "# Define experiment"
   ]
  },
  {
   "cell_type": "code",
   "execution_count": 33,
   "metadata": {},
   "outputs": [],
   "source": [
    "import numpy as np\n",
    "import pandas as pd\n",
    "from spartian_tools import *"
   ]
  },
  {
   "cell_type": "code",
   "execution_count": 34,
   "metadata": {},
   "outputs": [],
   "source": [
    "stage   = 'BUILD'\n",
    "label   = 'bld_geometry'\n",
    "\n",
    "BOXZ = 20\n",
    "\n",
    "length_x = 30.0\n",
    "length_y = 14.0\n",
    "length_z = 10.0\n",
    "\n",
    "length_hole_x = 30.0\n",
    "length_hole_y = 14.0\n",
    "length_hole_z = 8.8\n",
    "\n",
    "length_flow_x = 30.0\n",
    "length_flow_y = 14.0\n",
    "length_flow_z = 7.0\n",
    "\n",
    "xlo_reflect = -15\n",
    "xhi_reflect = 14.6\n",
    "\n",
    "time_step   = 0.001\n",
    "system_temp = 1.57892098513 # Seems that the frozen particles affect the average, this is a correction\n",
    "\n",
    "n_step_to_run   = 100000\n",
    "m_frame_dump    = 300\n",
    "m_frame_restart = 20000\n",
    "\n",
    "pressure    = 2.65\n",
    "epsilon     = 1\n",
    "sigma       = 1\n",
    "eta         = 1"
   ]
  },
  {
   "cell_type": "code",
   "execution_count": 35,
   "metadata": {},
   "outputs": [
    {
     "name": "stdout",
     "output_type": "stream",
     "text": [
      "Submitted batch job 67324\n"
     ]
    }
   ],
   "source": [
    "experiment_label    = f'X{length_x}_YZ{length_y}_{length_z}_PRESS{pressure}_TEMP{system_temp}'\n",
    "output_folder       = f'{root_output_folder}/{stage}/{experiment_label}'\n",
    "\n",
    "create_experiment_folder(output_folder)\n",
    "\n",
    "args = tuple([BOXZ, length_x, length_y, length_z, length_hole_x, length_hole_y, length_hole_z, length_flow_x, length_flow_y, length_flow_z, xlo_reflect, xhi_reflect, epsilon, sigma, eta, system_temp, pressure, time_step, n_step_to_run, m_frame_dump, m_frame_restart ])\n",
    "write_lj_fluid_hybrid_interaction_file(args, root_input_folder, output_folder, label)\n",
    "\n",
    "submit_file = f'{output_folder}/{label}.submit'\n",
    "write_submit_jobs_SLURM(label, submit_file)\n",
    "submit_jobs_SLURM(output_folder, submit_file)"
   ]
  },
  {
   "cell_type": "code",
   "execution_count": null,
   "metadata": {},
   "outputs": [],
   "source": []
  }
 ],
 "metadata": {
  "kernelspec": {
   "display_name": "base",
   "language": "python",
   "name": "python3"
  },
  "language_info": {
   "codemirror_mode": {
    "name": "ipython",
    "version": 3
   },
   "file_extension": ".py",
   "mimetype": "text/x-python",
   "name": "python",
   "nbconvert_exporter": "python",
   "pygments_lexer": "ipython3",
   "version": "3.10.13"
  }
 },
 "nbformat": 4,
 "nbformat_minor": 2
}
